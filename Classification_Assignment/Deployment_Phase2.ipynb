{
 "cells": [
  {
   "cell_type": "code",
   "execution_count": 2,
   "id": "4e1c25fb-aca7-4549-b516-d9ad71f2090d",
   "metadata": {},
   "outputs": [],
   "source": [
    "import pickle\n",
    "import warnings\n",
    "warnings.filterwarnings('ignore')"
   ]
  },
  {
   "cell_type": "code",
   "execution_count": 4,
   "id": "4c00cc1b-7ef5-4159-9550-cc357157a2fb",
   "metadata": {},
   "outputs": [],
   "source": [
    "##Load saved model:\n",
    "loaded_model = pickle.load(open(\"ckd_finilized_classified_gridModel.sav\",'rb'))\n",
    "scaler = pickle.load(open(\"scaler.sav\", 'rb'))"
   ]
  },
  {
   "cell_type": "raw",
   "id": "857e4533-710f-4e24-b8ad-ed8ea1571758",
   "metadata": {},
   "source": [
    "Example \"yes\" classified data- 2,76.45994832,3,0,148.1126761,57.48210526,3.077356021,137.528754,4.62724359,12.51815562,38.86890244,8408.191126,4.705597015,1,0,0,0,0,0,0,1,1,0,2"
   ]
  },
  {
   "cell_type": "code",
   "execution_count": 23,
   "id": "974d5bd1-e42c-4c5a-ad10-b4b136715e9e",
   "metadata": {},
   "outputs": [
    {
     "data": {
      "text/plain": [
       "[[2,\n",
       "  76.45994832,\n",
       "  3,\n",
       "  0,\n",
       "  148.1126761,\n",
       "  57.48210526,\n",
       "  3.077356021,\n",
       "  137.528754,\n",
       "  4.62724359,\n",
       "  12.51815562,\n",
       "  38.86890244,\n",
       "  8408.191126,\n",
       "  4.705597015,\n",
       "  1,\n",
       "  0,\n",
       "  0,\n",
       "  0,\n",
       "  0,\n",
       "  0,\n",
       "  0,\n",
       "  1,\n",
       "  1,\n",
       "  0,\n",
       "  2]]"
      ]
     },
     "execution_count": 23,
     "metadata": {},
     "output_type": "execute_result"
    }
   ],
   "source": [
    "new_data = [[2,76.45994832,3,0,148.1126761,57.48210526,3.077356021,137.528754,4.62724359,12.51815562,38.86890244,8408.191126,4.705597015,1,0,0,0,0,0,0,1,1,0,2]]\n",
    "new_data"
   ]
  },
  {
   "cell_type": "code",
   "execution_count": 25,
   "id": "00426c90-be61-47e7-8253-4852217f83cf",
   "metadata": {},
   "outputs": [
    {
     "data": {
      "text/plain": [
       "array([[-3.00628862, -0.02792137,  1.5136584 , -0.37443273, -0.00581529,\n",
       "        -0.01637492, -0.03497324,  0.03204912,  0.02493002,  0.03666038,\n",
       "         0.01620401,  0.00499839,  0.03772377,  0.37321001, -1.95789002,\n",
       "        -0.37864122, -0.25166115, -0.77136243, -0.7204496 , -0.32808366,\n",
       "         0.52535702,  1.97678838, -0.42085837,  0.59552777]])"
      ]
     },
     "execution_count": 25,
     "metadata": {},
     "output_type": "execute_result"
    }
   ],
   "source": [
    "# Apply Standard Scaling\n",
    "new_data_scaled = scaler.transform(new_data)\n",
    "new_data_scaled"
   ]
  },
  {
   "cell_type": "code",
   "execution_count": 27,
   "id": "a2b3c9da-f571-43f1-9262-9cfd659779a1",
   "metadata": {},
   "outputs": [
    {
     "data": {
      "text/plain": [
       "array(['yes'], dtype=object)"
      ]
     },
     "execution_count": 27,
     "metadata": {},
     "output_type": "execute_result"
    }
   ],
   "source": [
    "result = loaded_model.predict(new_data_scaled)\n",
    "result"
   ]
  },
  {
   "cell_type": "code",
   "execution_count": null,
   "id": "03017d5e-6a7b-4aec-a1f4-9bbf926eb242",
   "metadata": {},
   "outputs": [],
   "source": []
  },
  {
   "cell_type": "code",
   "execution_count": null,
   "id": "65cd2ec9-b554-4002-afac-7c6054b0a8d8",
   "metadata": {},
   "outputs": [],
   "source": []
  }
 ],
 "metadata": {
  "kernelspec": {
   "display_name": "Python 3 (ipykernel)",
   "language": "python",
   "name": "python3"
  },
  "language_info": {
   "codemirror_mode": {
    "name": "ipython",
    "version": 3
   },
   "file_extension": ".py",
   "mimetype": "text/x-python",
   "name": "python",
   "nbconvert_exporter": "python",
   "pygments_lexer": "ipython3",
   "version": "3.12.4"
  }
 },
 "nbformat": 4,
 "nbformat_minor": 5
}
