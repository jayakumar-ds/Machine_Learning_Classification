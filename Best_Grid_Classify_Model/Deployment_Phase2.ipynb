{
 "cells": [
  {
   "cell_type": "code",
   "execution_count": 39,
   "id": "4e1c25fb-aca7-4549-b516-d9ad71f2090d",
   "metadata": {},
   "outputs": [],
   "source": [
    "import pickle\n",
    "import warnings\n",
    "warnings.filterwarnings('ignore')"
   ]
  },
  {
   "cell_type": "code",
   "execution_count": 41,
   "id": "4c00cc1b-7ef5-4159-9550-cc357157a2fb",
   "metadata": {},
   "outputs": [],
   "source": [
    "##Load saved model:\n",
    "loaded_model = pickle.load(open(\"finilized_classified_gridModel.sav\",'rb'))\n",
    "scaler = pickle.load(open(\"scaler.sav\", 'rb'))"
   ]
  },
  {
   "cell_type": "code",
   "execution_count": 43,
   "id": "974d5bd1-e42c-4c5a-ad10-b4b136715e9e",
   "metadata": {},
   "outputs": [
    {
     "name": "stdin",
     "output_type": "stream",
     "text": [
      "Enter your age : 26\n",
      "Enter your Estimated salary : 43000\n",
      "Enter your Gender : male 0 & Female : 1 0\n"
     ]
    },
    {
     "data": {
      "text/plain": [
       "[[26, 43000.0, 0]]"
      ]
     },
     "execution_count": 43,
     "metadata": {},
     "output_type": "execute_result"
    }
   ],
   "source": [
    "#Age\tEstimatedSalary\tGender_Male\n",
    "age = int(input(\"Enter your age :\"))\n",
    "salary = float(input(\"Enter your Estimated salary :\"))\n",
    "gender = int(input(\"Enter your Gender : male 0 & Female : 1\"))\n",
    "\n",
    "new_data = [[age,salary,gender]]\n",
    "new_data"
   ]
  },
  {
   "cell_type": "code",
   "execution_count": 45,
   "id": "00426c90-be61-47e7-8253-4852217f83cf",
   "metadata": {},
   "outputs": [
    {
     "data": {
      "text/plain": [
       "array([[-1.16487283, -0.79359682, -1.        ]])"
      ]
     },
     "execution_count": 45,
     "metadata": {},
     "output_type": "execute_result"
    }
   ],
   "source": [
    "# Apply Standard Scaling\n",
    "new_data_scaled = scaler.transform(new_data)\n",
    "new_data_scaled"
   ]
  },
  {
   "cell_type": "code",
   "execution_count": 47,
   "id": "a2b3c9da-f571-43f1-9262-9cfd659779a1",
   "metadata": {},
   "outputs": [
    {
     "data": {
      "text/plain": [
       "array([0], dtype=int64)"
      ]
     },
     "execution_count": 47,
     "metadata": {},
     "output_type": "execute_result"
    }
   ],
   "source": [
    "result = loaded_model.predict(new_data_scaled)\n",
    "result"
   ]
  },
  {
   "cell_type": "code",
   "execution_count": null,
   "id": "03017d5e-6a7b-4aec-a1f4-9bbf926eb242",
   "metadata": {},
   "outputs": [],
   "source": []
  }
 ],
 "metadata": {
  "kernelspec": {
   "display_name": "Python 3 (ipykernel)",
   "language": "python",
   "name": "python3"
  },
  "language_info": {
   "codemirror_mode": {
    "name": "ipython",
    "version": 3
   },
   "file_extension": ".py",
   "mimetype": "text/x-python",
   "name": "python",
   "nbconvert_exporter": "python",
   "pygments_lexer": "ipython3",
   "version": "3.12.4"
  }
 },
 "nbformat": 4,
 "nbformat_minor": 5
}
